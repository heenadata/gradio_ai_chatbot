{
 "cells": [
  {
   "cell_type": "code",
   "execution_count": null,
   "id": "844ee7f0-3cbd-4b09-83f0-f5c742ffc905",
   "metadata": {},
   "outputs": [],
   "source": [
    "#!pip install chromadb openai\n",
    "#!pip install -U langchain-openai"
   ]
  },
  {
   "cell_type": "code",
   "execution_count": 13,
   "id": "b081ce52-1280-49f1-98f7-fb533e736c6d",
   "metadata": {},
   "outputs": [],
   "source": [
    "from langchain.document_loaders import TextLoader, PyPDFLoader\n",
    "from langchain_openai import OpenAIEmbeddings\n",
    "from langchain.text_splitter import RecursiveCharacterTextSplitter\n",
    "from langchain.embeddings import HuggingFaceEmbeddings, OpenAIEmbeddings\n",
    "import chromadb\n",
    "from chromadb.config import Settings\n",
    "import os\n",
    "import openai\n",
    "from dotenv import load_dotenv\n"
   ]
  },
  {
   "cell_type": "code",
   "execution_count": 15,
   "id": "b861ca0c-6b95-4c49-a294-cd13c4ecf0d1",
   "metadata": {},
   "outputs": [],
   "source": [
    "load_dotenv()\n",
    "openai.api_key = os.environ.get(\"OPENAI_API_KEY\")\n",
    "openai_api_key = openai.api_key"
   ]
  },
  {
   "cell_type": "markdown",
   "id": "ba821c0c-3f77-43de-94dc-83a73cb91230",
   "metadata": {},
   "source": [
    "1. **PDF document intake**\n",
    "2. **Break PDF into pages and chunks**"
   ]
  },
  {
   "cell_type": "code",
   "execution_count": 18,
   "id": "a0c13af9-2d31-4068-a707-b8b56e9e974d",
   "metadata": {},
   "outputs": [],
   "source": [
    "pdf_loader = PyPDFLoader(\"the_nestle_hr_policy_pdf_2012.pdf\")"
   ]
  },
  {
   "cell_type": "code",
   "execution_count": 20,
   "id": "8d91f3fc-eea7-4ddc-b5b4-186fdbcaa4cb",
   "metadata": {},
   "outputs": [],
   "source": [
    "pdf_pages = pdf_loader.load_and_split()\n",
    "# print(pdf_pages[0])"
   ]
  },
  {
   "cell_type": "code",
   "execution_count": 22,
   "id": "8722665f-4905-4c1f-8104-9ece58ef322d",
   "metadata": {},
   "outputs": [
    {
     "name": "stdout",
     "output_type": "stream",
     "text": [
      "35\n"
     ]
    },
    {
     "data": {
      "text/plain": [
       "list"
      ]
     },
     "execution_count": 22,
     "metadata": {},
     "output_type": "execute_result"
    }
   ],
   "source": [
    "doc_splitter = RecursiveCharacterTextSplitter(chunk_size=512, chunk_overlap=32)\n",
    "chunks = doc_splitter.split_documents(pdf_pages)\n",
    "print(len(chunks))  # Prints the number of chunks the PDF has been split into\n",
    "type(chunks)"
   ]
  },
  {
   "cell_type": "markdown",
   "id": "e8ad4348-16ff-40c6-80ac-8ed8887d7ae1",
   "metadata": {},
   "source": [
    "3. **Generate embeddings for each chunk**\n",
    "4. **Store chunks and embeddings in ChromaDB**"
   ]
  },
  {
   "cell_type": "code",
   "execution_count": 25,
   "id": "8b6a5d0a-8e97-4de0-9db6-852b56864ea4",
   "metadata": {},
   "outputs": [],
   "source": [
    "chroma_client = chromadb.PersistentClient(path=\"./chroma_db\")\n",
    "# Create or retrieve a collection named \"my_collection\"\n",
    "collection = chroma_client.get_or_create_collection(\"nestle_hr\")\n"
   ]
  },
  {
   "cell_type": "code",
   "execution_count": 27,
   "id": "7b6e5808-1939-415e-8574-727bc03119eb",
   "metadata": {},
   "outputs": [
    {
     "name": "stderr",
     "output_type": "stream",
     "text": [
      "C:\\Users\\chhahee\\AppData\\Local\\Temp\\1\\ipykernel_38256\\2676336951.py:1: LangChainDeprecationWarning: The class `OpenAIEmbeddings` was deprecated in LangChain 0.0.9 and will be removed in 0.3.0. An updated version of the class exists in the langchain-openai package and should be used instead. To use it run `pip install -U langchain-openai` and import as `from langchain_openai import OpenAIEmbeddings`.\n",
      "  embed = OpenAIEmbeddings(\n"
     ]
    }
   ],
   "source": [
    "embed = OpenAIEmbeddings(\n",
    "    model = 'text-embedding-ada-002',\n",
    "    openai_api_key= openai_api_key)"
   ]
  },
  {
   "cell_type": "code",
   "execution_count": 29,
   "id": "8a330e1c-bfd3-45ff-af73-2ba677f70233",
   "metadata": {},
   "outputs": [],
   "source": [
    "# Extract raw text from chunks\n",
    "context_array = [chunk.page_content for chunk in chunks]\n",
    "# print(context_array)\n",
    "\n",
    "# Submit array to OpenAI, which will return a list of embeddings \n",
    "# calculated from the input array of text chunks\n",
    "emb_vectors = embed.embed_documents(context_array) \n"
   ]
  },
  {
   "cell_type": "code",
   "execution_count": 30,
   "id": "31c8e167-af48-4a05-858f-457f93e5c644",
   "metadata": {},
   "outputs": [
    {
     "name": "stdout",
     "output_type": "stream",
     "text": [
      "RAM Usage Before Query: 52.2%\n",
      "15\n"
     ]
    }
   ],
   "source": [
    "import psutil\n",
    "print(f\"RAM Usage Before Query: {psutil.virtual_memory().percent}%\")\n",
    "print(collection.count()) "
   ]
  },
  {
   "cell_type": "code",
   "execution_count": 33,
   "id": "67699948-8090-404e-ba99-12f1aa28f407",
   "metadata": {},
   "outputs": [
    {
     "name": "stdout",
     "output_type": "stream",
     "text": [
      "Skipping duplicate embedding ID: 0\n",
      "Skipping duplicate embedding ID: 1\n",
      "Skipping duplicate embedding ID: 2\n",
      "Skipping duplicate embedding ID: 3\n",
      "Skipping duplicate embedding ID: 4\n",
      "Skipping duplicate embedding ID: 5\n",
      "Skipping duplicate embedding ID: 6\n",
      "Skipping duplicate embedding ID: 7\n",
      "Skipping duplicate embedding ID: 8\n",
      "Skipping duplicate embedding ID: 9\n",
      "Skipping duplicate embedding ID: 10\n",
      "Skipping duplicate embedding ID: 11\n",
      "Skipping duplicate embedding ID: 12\n",
      "Skipping duplicate embedding ID: 13\n",
      "Skipping duplicate embedding ID: 14\n"
     ]
    }
   ],
   "source": [
    "N=15\n",
    "existing_ids = set(collection.get()[\"ids\"])  # Fetch existing IDs\n",
    "for i, (text,embedding) in enumerate(zip(context_array[:N], emb_vectors[:N])):\n",
    "    id_str = str(i)\n",
    "    if id_str in existing_ids:\n",
    "        print(f\"Skipping duplicate embedding ID: {id_str}\")\n",
    "        continue  # Skip adding duplicate IDs\n",
    "    \n",
    "    collection.add(\n",
    "        ids=[id_str],\n",
    "        embeddings=[embedding],\n",
    "        metadatas=[{\"text\": text}]\n",
    "    )\n",
    "    print(f\"Added embedding ID: {id_str}\")"
   ]
  },
  {
   "cell_type": "code",
   "execution_count": 35,
   "id": "21f7e863-f459-4342-bb3b-0ea4bb2bac4a",
   "metadata": {},
   "outputs": [
    {
     "name": "stdout",
     "output_type": "stream",
     "text": [
      "RAM Usage Before Query: 51.0%\n",
      "15\n",
      "Document 0 text: The Nestlé Human Resources Policy4\n",
      "Learning is part of the Company culture.\n",
      "Employees at all levels are systematically \n",
      "encouraged to consider how they upgrade their \n",
      "knowledge and skills.\n",
      "The Company determines training and deve-\n",
      "lopment priorities. The responsibility for turning \n",
      "these into actions is shared between employees, \n",
      "line managers and the Human Resources. \n",
      "Experience and on-the-job training are the \n",
      "primary source of learning. Managers are \n",
      "responsible for guiding and coaching employees \n",
      "to succeed in their current positions.  \n",
      "Nestlé employees understand the importance \n",
      "of continuous improvement, as well as sharing knowledge and ideas freely with others. Practices such as lateral professional development, extension of responsibilities, and cross functional teams are encouraged to acquire additional skills, enrich job content and widen accountability.\n",
      "Nestlé also offers a comprehensive range of \n",
      "training activities and methodologies to support \n",
      "everyone’s learning and growth. Attending\n"
     ]
    }
   ],
   "source": [
    "import psutil\n",
    "print(f\"RAM Usage Before Query: {psutil.virtual_memory().percent}%\")\n",
    "print(collection.count()) \n",
    "# db = Chroma(persist_directory=\"./chroma_db\", embedding_function=embed)\n",
    "# all_docs = db.get()\n",
    "# count = len(all_docs.get('ids', []))\n",
    "# print(f\"Total documents in collection: {count}\")\n",
    "\n",
    "result = collection.get(ids=[\"10\"])\n",
    "# print(f\"Document 0 text: {result['metadatas'][0]['text']}\")"
   ]
  },
  {
   "cell_type": "code",
   "execution_count": 37,
   "id": "202853ae-4585-4944-bfec-8b37c5cf2bed",
   "metadata": {},
   "outputs": [
    {
     "name": "stderr",
     "output_type": "stream",
     "text": [
      "Add of existing embedding ID: 0\n",
      "Add of existing embedding ID: 1\n",
      "Add of existing embedding ID: 2\n",
      "Add of existing embedding ID: 3\n",
      "Add of existing embedding ID: 4\n",
      "Add of existing embedding ID: 0\n",
      "Add of existing embedding ID: 1\n",
      "Add of existing embedding ID: 2\n",
      "Add of existing embedding ID: 3\n",
      "Add of existing embedding ID: 4\n",
      "Add of existing embedding ID: 5\n",
      "Add of existing embedding ID: 6\n",
      "Add of existing embedding ID: 7\n",
      "Add of existing embedding ID: 8\n",
      "Add of existing embedding ID: 9\n",
      "Add of existing embedding ID: 10\n",
      "Add of existing embedding ID: 11\n",
      "Add of existing embedding ID: 12\n",
      "Add of existing embedding ID: 13\n",
      "Add of existing embedding ID: 14\n",
      "Add of existing embedding ID: 0\n",
      "Add of existing embedding ID: 1\n",
      "Add of existing embedding ID: 2\n",
      "Add of existing embedding ID: 3\n",
      "Add of existing embedding ID: 4\n",
      "Add of existing embedding ID: 5\n",
      "Add of existing embedding ID: 6\n",
      "Add of existing embedding ID: 7\n",
      "Add of existing embedding ID: 8\n",
      "Add of existing embedding ID: 9\n",
      "Add of existing embedding ID: 10\n",
      "Add of existing embedding ID: 11\n",
      "Add of existing embedding ID: 12\n",
      "Add of existing embedding ID: 13\n",
      "Add of existing embedding ID: 14\n",
      "Add of existing embedding ID: 0\n",
      "Add of existing embedding ID: 1\n",
      "Add of existing embedding ID: 2\n",
      "Add of existing embedding ID: 3\n",
      "Add of existing embedding ID: 4\n",
      "Add of existing embedding ID: 5\n",
      "Add of existing embedding ID: 6\n",
      "Add of existing embedding ID: 7\n",
      "Add of existing embedding ID: 8\n",
      "Add of existing embedding ID: 9\n",
      "Add of existing embedding ID: 10\n",
      "Add of existing embedding ID: 11\n",
      "Add of existing embedding ID: 12\n",
      "Add of existing embedding ID: 13\n",
      "Add of existing embedding ID: 14\n",
      "Add of existing embedding ID: 0\n",
      "Add of existing embedding ID: 1\n",
      "Add of existing embedding ID: 2\n",
      "Add of existing embedding ID: 3\n",
      "Add of existing embedding ID: 4\n",
      "Add of existing embedding ID: 5\n",
      "Add of existing embedding ID: 6\n",
      "Add of existing embedding ID: 7\n",
      "Add of existing embedding ID: 8\n",
      "Add of existing embedding ID: 9\n",
      "Add of existing embedding ID: 10\n",
      "Add of existing embedding ID: 11\n",
      "Add of existing embedding ID: 12\n",
      "Add of existing embedding ID: 13\n",
      "Add of existing embedding ID: 14\n",
      "Add of existing embedding ID: 0\n",
      "Add of existing embedding ID: 1\n",
      "Add of existing embedding ID: 2\n",
      "Add of existing embedding ID: 3\n",
      "Add of existing embedding ID: 4\n",
      "Add of existing embedding ID: 5\n",
      "Add of existing embedding ID: 6\n",
      "Add of existing embedding ID: 7\n",
      "Add of existing embedding ID: 8\n",
      "Add of existing embedding ID: 9\n",
      "Add of existing embedding ID: 10\n",
      "Add of existing embedding ID: 11\n",
      "Add of existing embedding ID: 12\n",
      "Add of existing embedding ID: 13\n",
      "Add of existing embedding ID: 14\n",
      "Add of existing embedding ID: 0\n",
      "Add of existing embedding ID: 0\n",
      "Add of existing embedding ID: 1\n",
      "Add of existing embedding ID: 2\n"
     ]
    },
    {
     "name": "stdout",
     "output_type": "stream",
     "text": [
      "The Nestlé Human Resources Policy3\n",
      " Total rewards\n",
      "Attracting new hires and keeping current \n",
      "employees engaged is not only about \n",
      "remuneration and benefits based on solid \n",
      "performance. It is also about the hard earned value and trust that our name brings to those who work with us; the relationships with our line \n",
      "managers and fellow workers; recognition and \n",
      "experiences enjoyed while working for a diverse global company; and possibilities to learn and grow. These are as a whole, the Total Rewards we \n",
      "receive.\n",
      "Nestlé, therefore, focuses on Fixed Pay, \n",
      "Variable Pay, Benefits, Personal Growth and Development and Work Life Environment as the \n",
      "key elements that define Total Rewards. In the spirit of developing a high performance culture, those elements need to correspond to what is \n",
      "valued by employees in each and every market, \n",
      "and which demonstrate how Nestlé is committed to giving each employee the opportunity to grow, evolve and contribute.Nestlé Total Rewards programmes must be\n",
      "established within the social and legal framework \n",
      "of each country, and with respect to applicable \n",
      "collective agreements. \n",
      "It is the responsibility of each manager to \n",
      "propose the remuneration of their employees \n",
      "within the framework of Company policy. \n",
      "Sufficient time should be spent with each employee to explain her or his specific situation in terms of remuneration and benefits, if needed \n",
      "with the support of HR management, in order to \n",
      "communicate properly, clearly and with sufficient transparency.\n",
      "Corporate policy: \n",
      "Nestlé Total Rewards PolicyWe are committed to providing our employees all over the world with good working conditions, a safe and healthy work environment, and flexible \n",
      "employment possibilities that support a better \n",
      "balance of private and professional life consistent with our ambition as a leading Nutrition, Health and Wellness Company.\n",
      "As such, we provide flexible working \n",
      "conditions whenever possible and encourage our employees to have outside interests especially\n",
      "everyone’s learning and growth. Attending \n",
      "a programme should never be considered as a reward but as a component of on-going \n",
      "development.\n",
      "Additionally, corporate leadership programmes \n",
      "help us develop and retain the best-qualified \n",
      "management. Leaders have the opportunity \n",
      "to attend either international training courses \n",
      "at Rive-Reine, which build integrated business understanding and solidify and reinforce Nestlé values and principles, or programmes conducted \n",
      "by our strategic learning partners.  Training and learning\n",
      "At Nestlé, a high performance culture supported by  \n",
      "differentiated rewards and development is key to \n",
      "the delivery of individual and business objectives.  \n",
      "This is driven by the alignment of clear and chal-  \n",
      "lenging responsibilities and ensuring that employ-\n",
      "ees are aware of how their work impacts Nestlé.\n",
      "The line manager and employee work together \n",
      "to ensure that challenging objectives are set and  \n",
      "effectively evaluated throughout the year. This\n",
      "effectively evaluated throughout the year. This \n",
      "further enables managers to acknowledge high performance and reward employees accordingly, while ensuring low performance is properly \n",
      "managed with integrity.\n",
      "Employees receive regular feedback on their \n",
      "performance and career aspirations through a variety of tools and processes such as the \n",
      "Performance Evaluation process (PE), the  Progress and Development Guide (PDG) and  360° assessments. Each manager dedicates the \n",
      "necessary time to the monitoring of objectives and \n",
      "regular coaching of employees through the year. \n",
      "Each employee, supported by the line manager, \n",
      "is in charge of her or his own professional \n",
      "development, whereby the employee is \n",
      "encouraged to express career objectives and expectations in an open dialogue. We aim to retain and motivate employees by offering attractive but \n",
      "realistic career moves allowing them to develop \n",
      "their skills in the long-term.Given the importance Nestlé puts on cultural\n",
      "community involvement. \n",
      "Those with line management responsibilities \n",
      "are required to take personal ownership of safety \n",
      "and health within their area of responsibility and \n",
      "are encouraged to develop their capability in this \n",
      "area.\n",
      "Nestlé’s commitment however goes beyond \n",
      "its own employees. We care about all people \n",
      "working inside or outside our premises under contractual obligations with service providers and we insist that they also take steps so that \n",
      "adequate working conditions are made available to them.\n",
      "We believe that it is essential to build a \n",
      "relationship based on trust and respect of employees at all levels. We do not tolerate any form of harassment or discrimination.\n",
      "Therefore, managers are committed to build \n",
      "and sustain, with their teams, an environment of mutual trust. HR ensures that a respectful dialogue is present and the voice of the \n",
      "employees is heard.\n",
      "Corporate policy: \n",
      "Policy on Conditions of Work and Employment Employment and working conditions\n"
     ]
    }
   ],
   "source": [
    "query_text = \"what is the Total Rewards program about\"\n",
    "query_embedding = embed.embed_query(query_text)\n",
    "\n",
    "query_result = collection.query(\n",
    "    query_embeddings=[query_embedding],\n",
    "    n_results=5  # Retrieve top 5 similar chunks\n",
    ")\n",
    "\n",
    "# Extracting text from metadatas\n",
    "# texts = [entry['text'] for entry in query_result['metadatas'][0]]\n",
    "\n",
    "combined_text = \"\\n\".join(entry['text'] for entry in query_result['metadatas'][0])\n",
    "# print(combined_text)\n"
   ]
  },
  {
   "cell_type": "code",
   "execution_count": 39,
   "id": "f9dff96b-acc2-4d98-82ac-8955bc065b16",
   "metadata": {},
   "outputs": [],
   "source": [
    "from chromadb.utils import embedding_functions\n",
    "\n",
    "openai_api_key= openai_api_key\n",
    "openai_ef = embedding_functions.OpenAIEmbeddingFunction(\n",
    "    api_key=openai_api_key,\n",
    "    model_name=\"text-embedding-ada-002\"  # This model produces 1536-dimensional embeddings\n",
    ")\n",
    "\n",
    "# Get or create the collection with the right embedding function\n",
    "collection = chroma_client.get_or_create_collection(\n",
    "    name=\"nestle_hr\",\n",
    "    embedding_function=openai_ef\n",
    ")"
   ]
  },
  {
   "cell_type": "code",
   "execution_count": 45,
   "id": "c6f91531-ca3e-4f6d-a883-bd6cc173f460",
   "metadata": {},
   "outputs": [
    {
     "name": "stdout",
     "output_type": "stream",
     "text": [
      "[Chunk 1]: {'text': 'account the specific context. Its spirit should be \\nrespected under all circumstances and could be summarised in one sentence: At Nestlé we put people at the centre of everything we do.\\nJean-Marc Duvoisin\\nDeputy Executive Vice President Introduction'}\n",
      "\n",
      "[Chunk 2]: {'text': 'The Nestlé Human Resources Policy1\\nAt Nestlé, we recognize that our employees \\nare the key to our success and nothing can be \\nachieved without their engagement. \\nThis document encompasses the guidelines \\nwhich constitute a solid basis for effective Human \\nResources Management throughout the Nestlé \\nGroup around the world. It explains to all Nestlé \\nemployees the vision and mission of the Human Resources function and illustrates every aspect of the Nestlé employee lifecycle. \\nThe Nestlé Management and Leadership \\nPrinciples inspire all the Nestlé employees in their actions and in their dealings with others. The \\nCorporate Business Principles refer to all the basic \\nprinciples which Nestlé endorses and subscribes to on a worldwide basis. Both these documents are the pillars on which the present policy has \\nbeen built.\\nThe implementation of this policy will be \\ninspired by sound judgement, compliance with \\nlocal market laws and common sense, taking into \\naccount the specific context. Its spirit should be'}\n",
      "\n",
      "[Chunk 3]: {'text': 'Policy\\nMandatorySeptember\\u2009\\n\\u200920\\n12Issuing \\u2009departement\\nHum\\nan Resources\\nTarget \\u2009audience \\u2009\\nAll\\n employees\\nApprover\\nExecutive Board, Nestlé S.A.\\nRepository\\nAll Nestlé Principles and Policies, Standards and  Guidelines can be found in the Centre online repository at:  http://intranet.nestle.com/nestledocs\\nCopyright\\n\\u2009and\\u2009confidentiality\\nAl\\nl rights belong to Nestec Ltd., Vevey, Switzerland.\\n© 2012, Nestec Ltd.\\nDesign\\nNestec Ltd., Corporate Identity & Design,  Vevey, Switzerland\\nProduction\\nbrain’print GmbH, Switzerland\\nPaper\\nThis report is printed on BVS, a paper produced  from well-managed forests and other controlled sources  certified by the Forest Stewardship Council (FSC).'}\n",
      "\n",
      "[Chunk 4]: {'text': 'ensuring functional leadership and the highest \\nlevel of focus, clarity, and efficiency. Our structure is based on three dedicated areas which provide specialized services (Centres of Expertise), \\ndeploy HR  strategies within a specific business \\n(Business Partners) and perform transactional activities (Employee Services). A shared responsibility\\nThe long-term success of the Company depends on its capacity to attract, retain and \\ndevelop employees able to ensure ongoing \\nand sustainable growth. This is a primary responsibility of all managers.\\nThe Nestlé policy is to hire employees with \\npersonal attitudes and professional skills enabling them to develop a long-term relationship with the Company. Therefore, special attention will be paid to ensure there is a strong alignment between a \\ncandidate’s values and the Nestlé culture.Only relevant skills and experience and \\nadherence to the Nestlé principles will'}\n",
      "\n",
      "[Chunk 5]: {'text': 'Policy\\nMandatorySeptember\\u2009 \\u20092012\\nThe Nestlé  \\nHuman Resources Policy'}\n",
      "The main thesis of the document is centered around the importance of people within Nestlé and the commitment to putting people at the center of everything they do. This can be summarized by the statement: \"At Nestlé we put people at the centre of everything we do.\" (Chunk 1) This philosophy is reflected throughout the document in discussions about employees being key to the company's success, the vision and mission of the Human Resources function, and the emphasis on hiring employees who align with Nestlé's culture and principles.\n"
     ]
    }
   ],
   "source": [
    "import chromadb\n",
    "from openai import OpenAI\n",
    "\n",
    "# Initialize clients\n",
    "client = OpenAI(api_key=openai_api_key)\n",
    "\n",
    "def answer_question(query, top_k=5):\n",
    "    # 1. Retrieve relevant chunks from ChromaDB\n",
    "    results = collection.query(\n",
    "        query_texts=[query],\n",
    "        n_results=top_k\n",
    "        )\n",
    "    # print(results)\n",
    "    # retrieved_chunks = results[\"documents\"][0]  # First (and only) query result\n",
    "    retrieved_chunks = results['metadatas'][0]\n",
    "    \n",
    "    # 2. Format the prompt with retrieved chunks and query\n",
    "    context = \"\\n\\n\".join([f\"[Chunk {i+1}]: {chunk}\" for i, chunk in enumerate(retrieved_chunks)])\n",
    "    print(context)\n",
    "    user_prompt = f\"CONTEXT:\\n{context}\\n\\nQUESTION: {query}\"\n",
    "    \n",
    "    # 3. The system message (from our prompt template)\n",
    "    system_message = \"\"\"You are a helpful assistant that answers questions based on the provided text chunks. Your goal is to give accurate, concise, and relevant answers using only the information available in the chunks.\n",
    "\n",
    "Guidelines:\n",
    "1. If the answer to a question is contained in the text chunks, provide the answer directly and cite the source chunk number.\n",
    "2. If the answer is not contained in the text chunks, respond with \"Based on the provided information, I cannot answer this question.\"\n",
    "3. Always maintain a helpful, informative tone.\n",
    "4. Do not make up or hallucinate information that isn't in the provided text chunks.\n",
    "5. If relevant information is spread across multiple chunks, synthesize a complete answer and cite all relevant chunks.\n",
    "6. When appropriate, use direct quotes from the text chunks to support your answer.\n",
    "7. If the question is ambiguous, request clarification before providing an answer.\n",
    "8. Always prioritize accuracy over completeness. It's better to provide a partial answer that's correct than a complete answer that includes hallucinated information.\n",
    "\n",
    "Remember: Your only source of information is the text chunks provided with each query.\"\"\"\n",
    "    \n",
    "    # 4. Call GPT-3.5 Turbo with our formatted prompt\n",
    "    response = client.chat.completions.create(\n",
    "        model=\"gpt-3.5-turbo\",\n",
    "        messages=[\n",
    "            {\"role\": \"system\", \"content\": system_message},\n",
    "            {\"role\": \"user\", \"content\": user_prompt}\n",
    "        ],\n",
    "        temperature=0.7\n",
    "        )\n",
    "    \n",
    "    return response.choices[0].message.content\n",
    "\n",
    "# Usage example\n",
    "user_question = \"What is the main thesis of this document?\"\n",
    "answer = answer_question(user_question)\n",
    "print(answer)"
   ]
  },
  {
   "cell_type": "code",
   "execution_count": 46,
   "id": "28b685fd-e109-4751-905f-109e8dd21929",
   "metadata": {},
   "outputs": [
    {
     "name": "stdout",
     "output_type": "stream",
     "text": [
      "* Running on local URL:  http://127.0.0.1:7861\n",
      "\n",
      "To create a public link, set `share=True` in `launch()`.\n"
     ]
    },
    {
     "data": {
      "text/html": [
       "<div><iframe src=\"http://127.0.0.1:7861/\" width=\"100%\" height=\"500\" allow=\"autoplay; camera; microphone; clipboard-read; clipboard-write;\" frameborder=\"0\" allowfullscreen></iframe></div>"
      ],
      "text/plain": [
       "<IPython.core.display.HTML object>"
      ]
     },
     "metadata": {},
     "output_type": "display_data"
    },
    {
     "data": {
      "text/plain": []
     },
     "execution_count": 46,
     "metadata": {},
     "output_type": "execute_result"
    }
   ],
   "source": [
    "import gradio as gr\n",
    "\n",
    "\n",
    "# Create Gradio interface\n",
    "iface = gr.Interface(\n",
    "    fn=answer_question,\n",
    "    inputs=gr.Textbox(lines=2, placeholder=\"Enter your question here...\"),\n",
    "    outputs=gr.Textbox(lines=30),\n",
    "    title=\"Q&A Chatbot\",\n",
    "    description=\"Ask me anything!\"\n",
    ")\n",
    "\n",
    "# Launch inside Jupyter Notebook\n",
    "iface.launch(inline=True)"
   ]
  },
  {
   "cell_type": "code",
   "execution_count": null,
   "id": "21106687-4547-4fe1-81e3-1307df7755d6",
   "metadata": {},
   "outputs": [],
   "source": []
  }
 ],
 "metadata": {
  "kernelspec": {
   "display_name": "Python 3 (ipykernel)",
   "language": "python",
   "name": "python3"
  },
  "language_info": {
   "codemirror_mode": {
    "name": "ipython",
    "version": 3
   },
   "file_extension": ".py",
   "mimetype": "text/x-python",
   "name": "python",
   "nbconvert_exporter": "python",
   "pygments_lexer": "ipython3",
   "version": "3.11.5"
  }
 },
 "nbformat": 4,
 "nbformat_minor": 5
}
